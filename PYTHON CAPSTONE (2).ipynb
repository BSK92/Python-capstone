{
 "cells": [
  {
   "cell_type": "code",
   "execution_count": null,
   "id": "2c5d1265-9c7e-4c64-8a0c-82bc05f30337",
   "metadata": {},
   "outputs": [],
   "source": [
    "#TASK 1"
   ]
  },
  {
   "cell_type": "code",
   "execution_count": null,
   "id": "1ca5a376-3344-44b7-973f-0575705fb4f9",
   "metadata": {},
   "outputs": [],
   "source": [
    "import pandas as pd\n",
    "\n",
    "# Employee DataFrame\n",
    "employee_data = {\n",
    "    'ID': ['A001', 'A002', 'A003', 'A004', 'A005'],\n",
    "    'Name': ['John Alter', 'Alice Luxumberg', 'Tom Sabestine', 'Nina Adgra', 'Amy Johny'],\n",
    "    'Gender': ['M', 'F', 'M', 'F', 'F'],\n",
    "    'City': ['Paris', 'London', 'Berlin', 'Newyork', 'Madrid'],\n",
    "    'Age': [25, 27, 29, 31, 30]\n",
    "}\n",
    "employee_df = pd.DataFrame(employee_data)\n",
    "employee_df.to_csv('path/to/your/employee_data.csv', index=False)\n",
    "\n",
    "# Seniority Level DataFrame\n",
    "seniority_data = {\n",
    "    'ID': ['A001', 'A002', 'A003', 'A004', 'A005'],\n",
    "    'Designation Level': [2, 2, 3, 2, 3]\n",
    "}\n",
    "seniority_df = pd.DataFrame(seniority_data)\n",
    "seniority_df.to_csv('path/to/your/seniority_data.csv', index=False)\n",
    "\n",
    "# Project DataFrame\n",
    "project_data = {\n",
    "    'ID': ['A001', 'A002', 'A003', 'A004', 'A005', 'A002', 'A005', 'A003', 'A001', 'A003', 'A001', 'A004', 'A004', 'A005'],\n",
    "    'Project': ['Project 1', 'Project 2', 'Project 3', 'Project 4', 'Project 5', 'Project 6', 'Project 7', 'Project 8', 'Project 9', 'Project 10', 'Project 11', 'Project 12', 'Project 13', 'Project 14'],\n",
    "    'Cost': [1002000, 2000000, 4500000, 5500000, None, 680000, 400000, None, None, 300000, 2000000, 1000000, 3000000, 200000],\n",
    "    'Status': ['Finished', 'Ongoing', 'Finished', 'Ongoing', 'Finished', 'Failed', 'Finished', 'Failed', 'Ongoing', 'Finished', 'Failed', 'Ongoing', 'Finished', 'Finished']\n",
    "}\n",
    "project_df = pd.DataFrame(project_data)\n",
    "project_df.to_csv('path/to/your/project_data.csv', index=False)\n"
   ]
  },
  {
   "cell_type": "code",
   "execution_count": null,
   "id": "65f075c1-bc11-466d-a7dc-93d17f21ec6a",
   "metadata": {},
   "outputs": [],
   "source": [
    "TASK 2"
   ]
  },
  {
   "cell_type": "code",
   "execution_count": null,
   "id": "efc335ae-e63e-46d3-9cc4-0919d1928aee",
   "metadata": {},
   "outputs": [],
   "source": [
    "import pandas as pd\n",
    "\n",
    "# Load the Project DataFrame\n",
    "project_df = pd.read_csv('path/to/your/project_data.csv')\n",
    "\n",
    "# Calculate running average and fill missing values\n",
    "sum_cost = 0\n",
    "count = 0\n",
    "\n",
    "for index, row in project_df.iterrows():\n",
    "    if pd.isna(row['Cost']):\n",
    "        running_avg = sum_cost / count if count > 0 else 0\n",
    "        project_df.at[index, 'Cost'] = running_avg\n",
    "    else:\n",
    "        sum_cost += row['Cost']\n",
    "        count += 1\n",
    "\n",
    "# Save the updated DataFrame\n",
    "project_df.to_csv('path/to/your/updated_project_data.csv', index=False)\n"
   ]
  },
  {
   "cell_type": "code",
   "execution_count": null,
   "id": "7fcdaf18-757b-491b-b212-450306887e71",
   "metadata": {},
   "outputs": [],
   "source": [
    "#TASK 3"
   ]
  },
  {
   "cell_type": "code",
   "execution_count": null,
   "id": "e51dec8a-05bf-4a9a-b504-4dc41d339d13",
   "metadata": {},
   "outputs": [],
   "source": [
    "import pandas as pd\n",
    "\n",
    "# Load the Employee DataFrame\n",
    "employee_df = pd.read_csv('path/to/your/employee_data.csv')\n",
    "\n",
    "# Split the \"Name\" column\n",
    "employee_df[['First Name', 'Last Name']] = employee_df['Name'].str.split(' ', 1, expand=True)\n",
    "employee_df.drop(columns=['Name'], inplace=True)\n",
    "\n",
    "# Save the updated DataFrame\n",
    "employee_df.to_csv('path/to/your/updated_employee_data.csv', index=False)\n"
   ]
  },
  {
   "cell_type": "code",
   "execution_count": null,
   "id": "8bd6a4c6-b632-424a-9cf8-a04e6672d834",
   "metadata": {},
   "outputs": [],
   "source": [
    "#TASK 4"
   ]
  },
  {
   "cell_type": "code",
   "execution_count": null,
   "id": "9d8c03ca-096c-4fe8-83e3-6bd743810ba8",
   "metadata": {},
   "outputs": [],
   "source": [
    "import pandas as pd\n",
    "\n",
    "# Load the DataFrames\n",
    "employee_df = pd.read_csv('path/to/your/updated_employee_data.csv')\n",
    "seniority_df = pd.read_csv('path/to/your/seniority_data.csv')\n",
    "project_df = pd.read_csv('path/to/your/updated_project_data.csv')\n",
    "\n",
    "# Merge the DataFrames\n",
    "final_df = employee_df.merge(seniority_df, on='ID', how='left').merge(project_df, on='ID', how='left')\n",
    "\n",
    "# Save the final DataFrame\n",
    "final_df.to_csv('path/to/your/final_data.csv', index=False)\n"
   ]
  },
  {
   "cell_type": "code",
   "execution_count": null,
   "id": "1557b198-f0f0-4ee0-820c-8bf614b6e8f2",
   "metadata": {},
   "outputs": [],
   "source": [
    "#Task 5"
   ]
  },
  {
   "cell_type": "code",
   "execution_count": null,
   "id": "b37620d7-cbbe-4527-8d64-e4810ecd45a4",
   "metadata": {},
   "outputs": [],
   "source": [
    "import pandas as pd\n",
    "\n",
    "# Load the Final DataFrame\n",
    "final_df = pd.read_csv('path/to/your/final_data.csv')\n",
    "\n",
    "# Add Bonus column\n",
    "final_df['Bonus'] = final_df.apply(lambda row: 0.05 * row['Cost'] if row['Status'] == 'Finished' else 0, axis=1)\n",
    "\n",
    "# Save the updated DataFrame\n",
    "final_df.to_csv('path/to/your/final_with_bonus_data.csv', index=False)\n",
    "\n"
   ]
  },
  {
   "cell_type": "code",
   "execution_count": null,
   "id": "3459ebe4-9549-4047-b6f8-acd5e6420706",
   "metadata": {},
   "outputs": [],
   "source": [
    "# Task 6"
   ]
  },
  {
   "cell_type": "code",
   "execution_count": null,
   "id": "e54e08bd-ffd4-49be-8f15-f3950c649d55",
   "metadata": {},
   "outputs": [],
   "source": [
    "import pandas as pd\n",
    "\n",
    "# Load the Final DataFrame\n",
    "final_df = pd.read_csv('path/to/your/final_with_bonus_data.csv')\n",
    "\n",
    "# Demote designation level for failed projects\n",
    "final_df.loc[final_df['Status'] == 'Failed', 'Designation Level'] -= 1\n",
    "\n",
    "# Remove employees with designation level above 4\n",
    "final_df = final_df[final_df['Designation Level'] <= 4]\n",
    "\n",
    "# Save the updated DataFrame\n",
    "final_df.to_csv('path/to/your/final_demoted_data.csv', index=False)\n"
   ]
  },
  {
   "cell_type": "code",
   "execution_count": null,
   "id": "5f4a0b93-7317-4b59-8a04-ee9c89d201c3",
   "metadata": {},
   "outputs": [],
   "source": [
    "# Task 7"
   ]
  },
  {
   "cell_type": "code",
   "execution_count": null,
   "id": "27e0b059-e708-4e21-8311-a75531e74b42",
   "metadata": {},
   "outputs": [],
   "source": [
    "import pandas as pd\n",
    "\n",
    "# Load the Final DataFrame\n",
    "final_df = pd.read_csv('path/to/your/final_demoted_data.csv')\n",
    "\n",
    "# Add titles based on gender\n",
    "final_df['First Name'] = final_df.apply(lambda row: f\"Mr. {row['First Name']}\" if row['Gender'] == 'M' else f\"Mrs. {row['First Name']}\", axis=1)\n",
    "\n",
    "# Drop the Gender column\n",
    "final_df.drop(columns=['Gender'], inplace=True)\n",
    "\n",
    "# Save the updated DataFrame\n",
    "final_df.to_csv('path/to/your/final_with_titles_data.csv', index=False)\n"
   ]
  },
  {
   "cell_type": "code",
   "execution_count": null,
   "id": "60ddcf04-27ca-4e45-b695-edf46fde1c49",
   "metadata": {},
   "outputs": [],
   "source": [
    "# Task 8"
   ]
  },
  {
   "cell_type": "code",
   "execution_count": null,
   "id": "6bc3d6e5-143b-457e-b82a-33a2b847f705",
   "metadata": {},
   "outputs": [],
   "source": [
    "import pandas as pd\n",
    "\n",
    "# Load the Final DataFrame\n",
    "final_df = pd.read_csv('path/to/your/final_with_titles_data.csv')\n",
    "\n",
    "# Promote designation level for employees older than 29\n",
    "for index, row in final_df.iterrows():\n",
    "    if row['Age'] > 29:\n",
    "        final_df.at[index, 'Designation Level'] += 1\n",
    "\n",
    "# Save the updated DataFrame\n",
    "final_df.to_csv('path/to/your/final_promoted_data_if.csv', index=False)\n",
    "\n",
    "\n"
   ]
  },
  {
   "cell_type": "code",
   "execution_count": null,
   "id": "096f57a4-ae53-4d05-a4e2-61b93ad555c3",
   "metadata": {},
   "outputs": [],
   "source": [
    "# Task 9 "
   ]
  },
  {
   "cell_type": "code",
   "execution_count": null,
   "id": "8ba2d838-af1a-4cf3-8605-14b4d1b0aed9",
   "metadata": {},
   "outputs": [],
   "source": [
    "import pandas as pd\n",
    "\n",
    "# Load the Final DataFrame\n",
    "final_df = pd.read_csv('path/to/your/final_promoted_data_if.csv')\n",
    "\n",
    "# Group by ID and First Name to calculate total cost\n",
    "total_cost_df = final_df.groupby(['ID', 'First Name'])['Cost'].sum().reset_index()\n",
    "total_cost_df.rename(columns={'Cost': 'Total Cost'}, inplace=True)\n",
    "\n",
    "# Save the new DataFrame\n",
    "total_cost_df.to_csv('path/to/your/total_proj_cost.csv', index=False)\n"
   ]
  },
  {
   "cell_type": "code",
   "execution_count": null,
   "id": "ad254fea-6d21-4abf-a8c7-91602508504f",
   "metadata": {},
   "outputs": [],
   "source": [
    "# Task 10"
   ]
  },
  {
   "cell_type": "code",
   "execution_count": 18,
   "id": "fb99230c-9879-454a-a6e8-fe8f08d0b97a",
   "metadata": {},
   "outputs": [
    {
     "name": "stdout",
     "output_type": "stream",
     "text": [
      "      ID             Name Gender     City  Age  Designation Level     Project  \\\n",
      "3   A002  Alice Luxumberg      F   London   27                  2   Project 2   \n",
      "4   A002  Alice Luxumberg      F   London   27                  2   Project 6   \n",
      "8   A004       Nina Adgra      F  Newyork   31                  2   Project 4   \n",
      "9   A004       Nina Adgra      F  Newyork   31                  2  Project 12   \n",
      "10  A004       Nina Adgra      F  Newyork   31                  2  Project 13   \n",
      "\n",
      "         Cost    Status  \n",
      "3   2000000.0   Ongoing  \n",
      "4    680000.0    Failed  \n",
      "8   5500000.0   Ongoing  \n",
      "9   1000000.0   Ongoing  \n",
      "10  3000000.0  Finished  \n"
     ]
    }
   ],
   "source": [
    "import pandas as pd\n",
    "import os\n",
    "\n",
    "# Create the data directory\n",
    "if not os.path.exists('data'):\n",
    "    os.makedirs('data')\n",
    "\n",
    "# Employee DataFrame\n",
    "employee_data = {\n",
    "    'ID': ['A001', 'A002', 'A003', 'A004', 'A005'],\n",
    "    'Name': ['John Alter', 'Alice Luxumberg', 'Tom Sabestine', 'Nina Adgra', 'Amy Johny'],\n",
    "    'Gender': ['M', 'F', 'M', 'F', 'F'],\n",
    "    'City': ['Paris', 'London', 'Berlin', 'Newyork', 'Madrid'],\n",
    "    'Age': [25, 27, 29, 31, 30]\n",
    "}\n",
    "employee_df = pd.DataFrame(employee_data)\n",
    "employee_df.to_csv('data/employee_data.csv', index=False)\n",
    "\n",
    "# Seniority Level DataFrame\n",
    "seniority_data = {\n",
    "    'ID': ['A001', 'A002', 'A003', 'A004', 'A005'],\n",
    "    'Designation Level': [2, 2, 3, 2, 3]\n",
    "}\n",
    "seniority_df = pd.DataFrame(seniority_data)\n",
    "seniority_df.to_csv('data/seniority_data.csv', index=False)\n",
    "\n",
    "# Project DataFrame\n",
    "project_data = {\n",
    "    'ID': ['A001', 'A002', 'A003', 'A004', 'A005', 'A002', 'A005', 'A003', 'A001', 'A003', 'A001', 'A004', 'A004', 'A005'],\n",
    "    'Project': ['Project 1', 'Project 2', 'Project 3', 'Project 4', 'Project 5', 'Project 6', 'Project 7', 'Project 8', 'Project 9', 'Project 10', 'Project 11', 'Project 12', 'Project 13', 'Project 14'],\n",
    "    'Cost': [1002000, 2000000, 4500000, 5500000, None, 680000, 400000, None, None, 300000, 2000000, 1000000, 3000000, 200000],\n",
    "    'Status': ['Finished', 'Ongoing', 'Finished', 'Ongoing', 'Finished', 'Failed', 'Finished', 'Failed', 'Ongoing', 'Finished', 'Failed', 'Ongoing', 'Finished', 'Finished']\n",
    "}\n",
    "project_df = pd.DataFrame(project_data)\n",
    "project_df.to_csv('data/project_data.csv', index=False)\n",
    "import pandas as pd\n",
    "\n",
    "# Load the DataFrames\n",
    "employee_df = pd.read_csv('data/employee_data.csv')\n",
    "seniority_df = pd.read_csv('data/seniority_data.csv')\n",
    "project_df = pd.read_csv('data/project_data.csv')\n",
    "\n",
    "# Merge the DataFrames\n",
    "final_df = employee_df.merge(seniority_df, on='ID').merge(project_df, on='ID')\n",
    "\n",
    "# Save the Final DataFrame\n",
    "final_df.to_csv('data/final_promoted_data_if.csv', index=False)\n",
    "import pandas as pd\n",
    "\n",
    "# Load the Final DataFrame\n",
    "final_df = pd.read_csv('data/final_promoted_data_if.csv')\n",
    "\n",
    "# Filter employees with 'o' in the city name\n",
    "employees_with_o = final_df[final_df['City'].str.contains('o', case=False)]\n",
    "\n",
    "# Display the filtered employee details\n",
    "print(employees_with_o)\n",
    "\n"
   ]
  },
  {
   "cell_type": "code",
   "execution_count": null,
   "id": "54436446-5f57-4dcd-9c12-1be3da65b08b",
   "metadata": {},
   "outputs": [],
   "source": []
  }
 ],
 "metadata": {
  "kernelspec": {
   "display_name": "Python 3 (ipykernel)",
   "language": "python",
   "name": "python3"
  },
  "language_info": {
   "codemirror_mode": {
    "name": "ipython",
    "version": 3
   },
   "file_extension": ".py",
   "mimetype": "text/x-python",
   "name": "python",
   "nbconvert_exporter": "python",
   "pygments_lexer": "ipython3",
   "version": "3.12.4"
  }
 },
 "nbformat": 4,
 "nbformat_minor": 5
}
